{
 "cells": [
  {
   "attachments": {},
   "cell_type": "markdown",
   "metadata": {},
   "source": [
    "# Exercicio API de Rick & Morty"
   ]
  },
  {
   "cell_type": "code",
   "execution_count": null,
   "metadata": {},
   "outputs": [],
   "source": [
    "# importa as librarías necesarias"
   ]
  },
  {
   "cell_type": "code",
   "execution_count": 41,
   "metadata": {},
   "outputs": [
    {
     "data": {
      "text/plain": "{'info': {'count': 51,\n  'pages': 3,\n  'next': 'https://rickandmortyapi.com/api/episode?page=2',\n  'prev': None},\n 'results': [{'id': 1,\n   'name': 'Pilot',\n   'air_date': 'December 2, 2013',\n   'episode': 'S01E01',\n   'characters': ['https://rickandmortyapi.com/api/character/1',\n    'https://rickandmortyapi.com/api/character/2',\n    'https://rickandmortyapi.com/api/character/35',\n    'https://rickandmortyapi.com/api/character/38',\n    'https://rickandmortyapi.com/api/character/62',\n    'https://rickandmortyapi.com/api/character/92',\n    'https://rickandmortyapi.com/api/character/127',\n    'https://rickandmortyapi.com/api/character/144',\n    'https://rickandmortyapi.com/api/character/158',\n    'https://rickandmortyapi.com/api/character/175',\n    'https://rickandmortyapi.com/api/character/179',\n    'https://rickandmortyapi.com/api/character/181',\n    'https://rickandmortyapi.com/api/character/239',\n    'https://rickandmortyapi.com/api/character/249',\n    'https://rickandmortyapi.com/api/character/271',\n    'https://rickandmortyapi.com/api/character/338',\n    'https://rickandmortyapi.com/api/character/394',\n    'https://rickandmortyapi.com/api/character/395',\n    'https://rickandmortyapi.com/api/character/435'],\n   'url': 'https://rickandmortyapi.com/api/episode/1',\n   'created': '2017-11-10T12:56:33.798Z'},\n  {'id': 2,\n   'name': 'Lawnmower Dog',\n   'air_date': 'December 9, 2013',\n   'episode': 'S01E02',\n   'characters': ['https://rickandmortyapi.com/api/character/1',\n    'https://rickandmortyapi.com/api/character/2',\n    'https://rickandmortyapi.com/api/character/38',\n    'https://rickandmortyapi.com/api/character/46',\n    'https://rickandmortyapi.com/api/character/63',\n    'https://rickandmortyapi.com/api/character/80',\n    'https://rickandmortyapi.com/api/character/175',\n    'https://rickandmortyapi.com/api/character/221',\n    'https://rickandmortyapi.com/api/character/239',\n    'https://rickandmortyapi.com/api/character/246',\n    'https://rickandmortyapi.com/api/character/304',\n    'https://rickandmortyapi.com/api/character/305',\n    'https://rickandmortyapi.com/api/character/306',\n    'https://rickandmortyapi.com/api/character/329',\n    'https://rickandmortyapi.com/api/character/338',\n    'https://rickandmortyapi.com/api/character/396',\n    'https://rickandmortyapi.com/api/character/397',\n    'https://rickandmortyapi.com/api/character/398',\n    'https://rickandmortyapi.com/api/character/405'],\n   'url': 'https://rickandmortyapi.com/api/episode/2',\n   'created': '2017-11-10T12:56:33.916Z'},\n  {'id': 3,\n   'name': 'Anatomy Park',\n   'air_date': 'December 16, 2013',\n   'episode': 'S01E03',\n   'characters': ['https://rickandmortyapi.com/api/character/1',\n    'https://rickandmortyapi.com/api/character/2',\n    'https://rickandmortyapi.com/api/character/12',\n    'https://rickandmortyapi.com/api/character/17',\n    'https://rickandmortyapi.com/api/character/38',\n    'https://rickandmortyapi.com/api/character/45',\n    'https://rickandmortyapi.com/api/character/96',\n    'https://rickandmortyapi.com/api/character/97',\n    'https://rickandmortyapi.com/api/character/98',\n    'https://rickandmortyapi.com/api/character/99',\n    'https://rickandmortyapi.com/api/character/100',\n    'https://rickandmortyapi.com/api/character/101',\n    'https://rickandmortyapi.com/api/character/108',\n    'https://rickandmortyapi.com/api/character/112',\n    'https://rickandmortyapi.com/api/character/114',\n    'https://rickandmortyapi.com/api/character/169',\n    'https://rickandmortyapi.com/api/character/175',\n    'https://rickandmortyapi.com/api/character/186',\n    'https://rickandmortyapi.com/api/character/201',\n    'https://rickandmortyapi.com/api/character/268',\n    'https://rickandmortyapi.com/api/character/300',\n    'https://rickandmortyapi.com/api/character/302',\n    'https://rickandmortyapi.com/api/character/338',\n    'https://rickandmortyapi.com/api/character/356'],\n   'url': 'https://rickandmortyapi.com/api/episode/3',\n   'created': '2017-11-10T12:56:34.022Z'},\n  {'id': 4,\n   'name': 'M. Night Shaym-Aliens!',\n   'air_date': 'January 13, 2014',\n   'episode': 'S01E04',\n   'characters': ['https://rickandmortyapi.com/api/character/1',\n    'https://rickandmortyapi.com/api/character/2',\n    'https://rickandmortyapi.com/api/character/38',\n    'https://rickandmortyapi.com/api/character/87',\n    'https://rickandmortyapi.com/api/character/175',\n    'https://rickandmortyapi.com/api/character/179',\n    'https://rickandmortyapi.com/api/character/181',\n    'https://rickandmortyapi.com/api/character/191',\n    'https://rickandmortyapi.com/api/character/239',\n    'https://rickandmortyapi.com/api/character/241',\n    'https://rickandmortyapi.com/api/character/270',\n    'https://rickandmortyapi.com/api/character/337',\n    'https://rickandmortyapi.com/api/character/338'],\n   'url': 'https://rickandmortyapi.com/api/episode/4',\n   'created': '2017-11-10T12:56:34.129Z'},\n  {'id': 5,\n   'name': 'Meeseeks and Destroy',\n   'air_date': 'January 20, 2014',\n   'episode': 'S01E05',\n   'characters': ['https://rickandmortyapi.com/api/character/1',\n    'https://rickandmortyapi.com/api/character/2',\n    'https://rickandmortyapi.com/api/character/38',\n    'https://rickandmortyapi.com/api/character/41',\n    'https://rickandmortyapi.com/api/character/89',\n    'https://rickandmortyapi.com/api/character/116',\n    'https://rickandmortyapi.com/api/character/117',\n    'https://rickandmortyapi.com/api/character/120',\n    'https://rickandmortyapi.com/api/character/175',\n    'https://rickandmortyapi.com/api/character/193',\n    'https://rickandmortyapi.com/api/character/238',\n    'https://rickandmortyapi.com/api/character/242',\n    'https://rickandmortyapi.com/api/character/271',\n    'https://rickandmortyapi.com/api/character/303',\n    'https://rickandmortyapi.com/api/character/326',\n    'https://rickandmortyapi.com/api/character/333',\n    'https://rickandmortyapi.com/api/character/338',\n    'https://rickandmortyapi.com/api/character/343',\n    'https://rickandmortyapi.com/api/character/399',\n    'https://rickandmortyapi.com/api/character/400'],\n   'url': 'https://rickandmortyapi.com/api/episode/5',\n   'created': '2017-11-10T12:56:34.236Z'},\n  {'id': 6,\n   'name': 'Rick Potion #9',\n   'air_date': 'January 27, 2014',\n   'episode': 'S01E06',\n   'characters': ['https://rickandmortyapi.com/api/character/1',\n    'https://rickandmortyapi.com/api/character/2',\n    'https://rickandmortyapi.com/api/character/3',\n    'https://rickandmortyapi.com/api/character/4',\n    'https://rickandmortyapi.com/api/character/5',\n    'https://rickandmortyapi.com/api/character/38',\n    'https://rickandmortyapi.com/api/character/58',\n    'https://rickandmortyapi.com/api/character/82',\n    'https://rickandmortyapi.com/api/character/83',\n    'https://rickandmortyapi.com/api/character/92',\n    'https://rickandmortyapi.com/api/character/155',\n    'https://rickandmortyapi.com/api/character/175',\n    'https://rickandmortyapi.com/api/character/179',\n    'https://rickandmortyapi.com/api/character/181',\n    'https://rickandmortyapi.com/api/character/216',\n    'https://rickandmortyapi.com/api/character/234',\n    'https://rickandmortyapi.com/api/character/239',\n    'https://rickandmortyapi.com/api/character/249',\n    'https://rickandmortyapi.com/api/character/251',\n    'https://rickandmortyapi.com/api/character/271',\n    'https://rickandmortyapi.com/api/character/293',\n    'https://rickandmortyapi.com/api/character/338',\n    'https://rickandmortyapi.com/api/character/343',\n    'https://rickandmortyapi.com/api/character/394'],\n   'url': 'https://rickandmortyapi.com/api/episode/6',\n   'created': '2017-11-10T12:56:34.339Z'},\n  {'id': 7,\n   'name': 'Raising Gazorpazorp',\n   'air_date': 'March 10, 2014',\n   'episode': 'S01E07',\n   'characters': ['https://rickandmortyapi.com/api/character/1',\n    'https://rickandmortyapi.com/api/character/2',\n    'https://rickandmortyapi.com/api/character/3',\n    'https://rickandmortyapi.com/api/character/4',\n    'https://rickandmortyapi.com/api/character/5',\n    'https://rickandmortyapi.com/api/character/59',\n    'https://rickandmortyapi.com/api/character/151',\n    'https://rickandmortyapi.com/api/character/168',\n    'https://rickandmortyapi.com/api/character/211',\n    'https://rickandmortyapi.com/api/character/230',\n    'https://rickandmortyapi.com/api/character/258',\n    'https://rickandmortyapi.com/api/character/329',\n    'https://rickandmortyapi.com/api/character/376',\n    'https://rickandmortyapi.com/api/character/401'],\n   'url': 'https://rickandmortyapi.com/api/episode/7',\n   'created': '2017-11-10T12:56:34.441Z'},\n  {'id': 8,\n   'name': 'Rixty Minutes',\n   'air_date': 'March 17, 2014',\n   'episode': 'S01E08',\n   'characters': ['https://rickandmortyapi.com/api/character/1',\n    'https://rickandmortyapi.com/api/character/2',\n    'https://rickandmortyapi.com/api/character/3',\n    'https://rickandmortyapi.com/api/character/4',\n    'https://rickandmortyapi.com/api/character/5',\n    'https://rickandmortyapi.com/api/character/20',\n    'https://rickandmortyapi.com/api/character/28',\n    'https://rickandmortyapi.com/api/character/29',\n    'https://rickandmortyapi.com/api/character/34',\n    'https://rickandmortyapi.com/api/character/37',\n    'https://rickandmortyapi.com/api/character/54',\n    'https://rickandmortyapi.com/api/character/88',\n    'https://rickandmortyapi.com/api/character/91',\n    'https://rickandmortyapi.com/api/character/129',\n    'https://rickandmortyapi.com/api/character/134',\n    'https://rickandmortyapi.com/api/character/136',\n    'https://rickandmortyapi.com/api/character/145',\n    'https://rickandmortyapi.com/api/character/153',\n    'https://rickandmortyapi.com/api/character/157',\n    'https://rickandmortyapi.com/api/character/176',\n    'https://rickandmortyapi.com/api/character/183',\n    'https://rickandmortyapi.com/api/character/184',\n    'https://rickandmortyapi.com/api/character/195',\n    'https://rickandmortyapi.com/api/character/207',\n    'https://rickandmortyapi.com/api/character/214',\n    'https://rickandmortyapi.com/api/character/222',\n    'https://rickandmortyapi.com/api/character/250',\n    'https://rickandmortyapi.com/api/character/266',\n    'https://rickandmortyapi.com/api/character/277',\n    'https://rickandmortyapi.com/api/character/279',\n    'https://rickandmortyapi.com/api/character/314',\n    'https://rickandmortyapi.com/api/character/315',\n    'https://rickandmortyapi.com/api/character/316',\n    'https://rickandmortyapi.com/api/character/317',\n    'https://rickandmortyapi.com/api/character/318',\n    'https://rickandmortyapi.com/api/character/351',\n    'https://rickandmortyapi.com/api/character/358',\n    'https://rickandmortyapi.com/api/character/367',\n    'https://rickandmortyapi.com/api/character/370',\n    'https://rickandmortyapi.com/api/character/373',\n    'https://rickandmortyapi.com/api/character/402',\n    'https://rickandmortyapi.com/api/character/403',\n    'https://rickandmortyapi.com/api/character/404',\n    'https://rickandmortyapi.com/api/character/405',\n    'https://rickandmortyapi.com/api/character/406',\n    'https://rickandmortyapi.com/api/character/407',\n    'https://rickandmortyapi.com/api/character/408',\n    'https://rickandmortyapi.com/api/character/409',\n    'https://rickandmortyapi.com/api/character/410',\n    'https://rickandmortyapi.com/api/character/411',\n    'https://rickandmortyapi.com/api/character/412',\n    'https://rickandmortyapi.com/api/character/413',\n    'https://rickandmortyapi.com/api/character/414',\n    'https://rickandmortyapi.com/api/character/415',\n    'https://rickandmortyapi.com/api/character/416',\n    'https://rickandmortyapi.com/api/character/417',\n    'https://rickandmortyapi.com/api/character/418'],\n   'url': 'https://rickandmortyapi.com/api/episode/8',\n   'created': '2017-11-10T12:56:34.543Z'},\n  {'id': 9,\n   'name': 'Something Ricked This Way Comes',\n   'air_date': 'March 24, 2014',\n   'episode': 'S01E09',\n   'characters': ['https://rickandmortyapi.com/api/character/1',\n    'https://rickandmortyapi.com/api/character/2',\n    'https://rickandmortyapi.com/api/character/3',\n    'https://rickandmortyapi.com/api/character/4',\n    'https://rickandmortyapi.com/api/character/5',\n    'https://rickandmortyapi.com/api/character/88',\n    'https://rickandmortyapi.com/api/character/192',\n    'https://rickandmortyapi.com/api/character/240',\n    'https://rickandmortyapi.com/api/character/243',\n    'https://rickandmortyapi.com/api/character/251',\n    'https://rickandmortyapi.com/api/character/272',\n    'https://rickandmortyapi.com/api/character/307',\n    'https://rickandmortyapi.com/api/character/419',\n    'https://rickandmortyapi.com/api/character/420',\n    'https://rickandmortyapi.com/api/character/421',\n    'https://rickandmortyapi.com/api/character/422',\n    'https://rickandmortyapi.com/api/character/826'],\n   'url': 'https://rickandmortyapi.com/api/episode/9',\n   'created': '2017-11-10T12:56:34.645Z'},\n  {'id': 10,\n   'name': 'Close Rick-counters of the Rick Kind',\n   'air_date': 'April 7, 2014',\n   'episode': 'S01E10',\n   'characters': ['https://rickandmortyapi.com/api/character/1',\n    'https://rickandmortyapi.com/api/character/2',\n    'https://rickandmortyapi.com/api/character/3',\n    'https://rickandmortyapi.com/api/character/4',\n    'https://rickandmortyapi.com/api/character/5',\n    'https://rickandmortyapi.com/api/character/7',\n    'https://rickandmortyapi.com/api/character/14',\n    'https://rickandmortyapi.com/api/character/15',\n    'https://rickandmortyapi.com/api/character/18',\n    'https://rickandmortyapi.com/api/character/19',\n    'https://rickandmortyapi.com/api/character/21',\n    'https://rickandmortyapi.com/api/character/22',\n    'https://rickandmortyapi.com/api/character/27',\n    'https://rickandmortyapi.com/api/character/39',\n    'https://rickandmortyapi.com/api/character/53',\n    'https://rickandmortyapi.com/api/character/77',\n    'https://rickandmortyapi.com/api/character/78',\n    'https://rickandmortyapi.com/api/character/79',\n    'https://rickandmortyapi.com/api/character/82',\n    'https://rickandmortyapi.com/api/character/83',\n    'https://rickandmortyapi.com/api/character/84',\n    'https://rickandmortyapi.com/api/character/85',\n    'https://rickandmortyapi.com/api/character/86',\n    'https://rickandmortyapi.com/api/character/103',\n    'https://rickandmortyapi.com/api/character/113',\n    'https://rickandmortyapi.com/api/character/118',\n    'https://rickandmortyapi.com/api/character/119',\n    'https://rickandmortyapi.com/api/character/152',\n    'https://rickandmortyapi.com/api/character/164',\n    'https://rickandmortyapi.com/api/character/177',\n    'https://rickandmortyapi.com/api/character/209',\n    'https://rickandmortyapi.com/api/character/215',\n    'https://rickandmortyapi.com/api/character/232',\n    'https://rickandmortyapi.com/api/character/242',\n    'https://rickandmortyapi.com/api/character/274',\n    'https://rickandmortyapi.com/api/character/290',\n    'https://rickandmortyapi.com/api/character/294',\n    'https://rickandmortyapi.com/api/character/295',\n    'https://rickandmortyapi.com/api/character/298',\n    'https://rickandmortyapi.com/api/character/299',\n    'https://rickandmortyapi.com/api/character/329',\n    'https://rickandmortyapi.com/api/character/330',\n    'https://rickandmortyapi.com/api/character/339',\n    'https://rickandmortyapi.com/api/character/349',\n    'https://rickandmortyapi.com/api/character/359',\n    'https://rickandmortyapi.com/api/character/381',\n    'https://rickandmortyapi.com/api/character/389',\n    'https://rickandmortyapi.com/api/character/405',\n    'https://rickandmortyapi.com/api/character/424',\n    'https://rickandmortyapi.com/api/character/425',\n    'https://rickandmortyapi.com/api/character/426',\n    'https://rickandmortyapi.com/api/character/427',\n    'https://rickandmortyapi.com/api/character/428',\n    'https://rickandmortyapi.com/api/character/429',\n    'https://rickandmortyapi.com/api/character/430',\n    'https://rickandmortyapi.com/api/character/431',\n    'https://rickandmortyapi.com/api/character/432',\n    'https://rickandmortyapi.com/api/character/433',\n    'https://rickandmortyapi.com/api/character/434',\n    'https://rickandmortyapi.com/api/character/663'],\n   'url': 'https://rickandmortyapi.com/api/episode/10',\n   'created': '2017-11-10T12:56:34.747Z'},\n  {'id': 11,\n   'name': 'Ricksy Business',\n   'air_date': 'April 14, 2014',\n   'episode': 'S01E11',\n   'characters': ['https://rickandmortyapi.com/api/character/1',\n    'https://rickandmortyapi.com/api/character/2',\n    'https://rickandmortyapi.com/api/character/3',\n    'https://rickandmortyapi.com/api/character/4',\n    'https://rickandmortyapi.com/api/character/5',\n    'https://rickandmortyapi.com/api/character/7',\n    'https://rickandmortyapi.com/api/character/35',\n    'https://rickandmortyapi.com/api/character/47',\n    'https://rickandmortyapi.com/api/character/58',\n    'https://rickandmortyapi.com/api/character/88',\n    'https://rickandmortyapi.com/api/character/180',\n    'https://rickandmortyapi.com/api/character/181',\n    'https://rickandmortyapi.com/api/character/210',\n    'https://rickandmortyapi.com/api/character/216',\n    'https://rickandmortyapi.com/api/character/251',\n    'https://rickandmortyapi.com/api/character/282',\n    'https://rickandmortyapi.com/api/character/295',\n    'https://rickandmortyapi.com/api/character/308',\n    'https://rickandmortyapi.com/api/character/326',\n    'https://rickandmortyapi.com/api/character/327',\n    'https://rickandmortyapi.com/api/character/331',\n    'https://rickandmortyapi.com/api/character/333',\n    'https://rickandmortyapi.com/api/character/344',\n    'https://rickandmortyapi.com/api/character/362',\n    'https://rickandmortyapi.com/api/character/389',\n    'https://rickandmortyapi.com/api/character/395',\n    'https://rickandmortyapi.com/api/character/405',\n    'https://rickandmortyapi.com/api/character/423',\n    'https://rickandmortyapi.com/api/character/435',\n    'https://rickandmortyapi.com/api/character/436'],\n   'url': 'https://rickandmortyapi.com/api/episode/11',\n   'created': '2017-11-10T12:56:34.850Z'},\n  {'id': 12,\n   'name': 'A Rickle in Time',\n   'air_date': 'July 26, 2015',\n   'episode': 'S02E01',\n   'characters': ['https://rickandmortyapi.com/api/character/1',\n    'https://rickandmortyapi.com/api/character/2',\n    'https://rickandmortyapi.com/api/character/3',\n    'https://rickandmortyapi.com/api/character/4',\n    'https://rickandmortyapi.com/api/character/5',\n    'https://rickandmortyapi.com/api/character/11',\n    'https://rickandmortyapi.com/api/character/64',\n    'https://rickandmortyapi.com/api/character/237',\n    'https://rickandmortyapi.com/api/character/313',\n    'https://rickandmortyapi.com/api/character/437',\n    'https://rickandmortyapi.com/api/character/438',\n    'https://rickandmortyapi.com/api/character/439',\n    'https://rickandmortyapi.com/api/character/440'],\n   'url': 'https://rickandmortyapi.com/api/episode/12',\n   'created': '2017-11-10T12:56:34.953Z'},\n  {'id': 13,\n   'name': 'Mortynight Run',\n   'air_date': 'August 2, 2015',\n   'episode': 'S02E02',\n   'characters': ['https://rickandmortyapi.com/api/character/1',\n    'https://rickandmortyapi.com/api/character/2',\n    'https://rickandmortyapi.com/api/character/5',\n    'https://rickandmortyapi.com/api/character/23',\n    'https://rickandmortyapi.com/api/character/28',\n    'https://rickandmortyapi.com/api/character/34',\n    'https://rickandmortyapi.com/api/character/106',\n    'https://rickandmortyapi.com/api/character/122',\n    'https://rickandmortyapi.com/api/character/129',\n    'https://rickandmortyapi.com/api/character/131',\n    'https://rickandmortyapi.com/api/character/133',\n    'https://rickandmortyapi.com/api/character/136',\n    'https://rickandmortyapi.com/api/character/174',\n    'https://rickandmortyapi.com/api/character/180',\n    'https://rickandmortyapi.com/api/character/196',\n    'https://rickandmortyapi.com/api/character/207',\n    'https://rickandmortyapi.com/api/character/242',\n    'https://rickandmortyapi.com/api/character/257',\n    'https://rickandmortyapi.com/api/character/282',\n    'https://rickandmortyapi.com/api/character/309',\n    'https://rickandmortyapi.com/api/character/311',\n    'https://rickandmortyapi.com/api/character/362',\n    'https://rickandmortyapi.com/api/character/386',\n    'https://rickandmortyapi.com/api/character/393',\n    'https://rickandmortyapi.com/api/character/436',\n    'https://rickandmortyapi.com/api/character/441',\n    'https://rickandmortyapi.com/api/character/442',\n    'https://rickandmortyapi.com/api/character/443',\n    'https://rickandmortyapi.com/api/character/444',\n    'https://rickandmortyapi.com/api/character/445',\n    'https://rickandmortyapi.com/api/character/446',\n    'https://rickandmortyapi.com/api/character/447',\n    'https://rickandmortyapi.com/api/character/448',\n    'https://rickandmortyapi.com/api/character/449',\n    'https://rickandmortyapi.com/api/character/450',\n    'https://rickandmortyapi.com/api/character/451'],\n   'url': 'https://rickandmortyapi.com/api/episode/13',\n   'created': '2017-11-10T12:56:35.055Z'},\n  {'id': 14,\n   'name': 'Auto Erotic Assimilation',\n   'air_date': 'August 9, 2015',\n   'episode': 'S02E03',\n   'characters': ['https://rickandmortyapi.com/api/character/1',\n    'https://rickandmortyapi.com/api/character/2',\n    'https://rickandmortyapi.com/api/character/3',\n    'https://rickandmortyapi.com/api/character/4',\n    'https://rickandmortyapi.com/api/character/5',\n    'https://rickandmortyapi.com/api/character/36',\n    'https://rickandmortyapi.com/api/character/50',\n    'https://rickandmortyapi.com/api/character/90',\n    'https://rickandmortyapi.com/api/character/188',\n    'https://rickandmortyapi.com/api/character/249',\n    'https://rickandmortyapi.com/api/character/301',\n    'https://rickandmortyapi.com/api/character/336',\n    'https://rickandmortyapi.com/api/character/355',\n    'https://rickandmortyapi.com/api/character/372'],\n   'url': 'https://rickandmortyapi.com/api/episode/14',\n   'created': '2017-11-10T12:56:35.158Z'},\n  {'id': 15,\n   'name': 'Total Rickall',\n   'air_date': 'August 16, 2015',\n   'episode': 'S02E04',\n   'characters': ['https://rickandmortyapi.com/api/character/1',\n    'https://rickandmortyapi.com/api/character/2',\n    'https://rickandmortyapi.com/api/character/3',\n    'https://rickandmortyapi.com/api/character/4',\n    'https://rickandmortyapi.com/api/character/5',\n    'https://rickandmortyapi.com/api/character/16',\n    'https://rickandmortyapi.com/api/character/31',\n    'https://rickandmortyapi.com/api/character/32',\n    'https://rickandmortyapi.com/api/character/76',\n    'https://rickandmortyapi.com/api/character/109',\n    'https://rickandmortyapi.com/api/character/128',\n    'https://rickandmortyapi.com/api/character/141',\n    'https://rickandmortyapi.com/api/character/154',\n    'https://rickandmortyapi.com/api/character/169',\n    'https://rickandmortyapi.com/api/character/236',\n    'https://rickandmortyapi.com/api/character/244',\n    'https://rickandmortyapi.com/api/character/248',\n    'https://rickandmortyapi.com/api/character/259',\n    'https://rickandmortyapi.com/api/character/262',\n    'https://rickandmortyapi.com/api/character/280',\n    'https://rickandmortyapi.com/api/character/324',\n    'https://rickandmortyapi.com/api/character/329',\n    'https://rickandmortyapi.com/api/character/352',\n    'https://rickandmortyapi.com/api/character/391'],\n   'url': 'https://rickandmortyapi.com/api/episode/15',\n   'created': '2017-11-10T12:56:35.261Z'},\n  {'id': 16,\n   'name': 'Get Schwifty',\n   'air_date': 'August 23, 2015',\n   'episode': 'S02E05',\n   'characters': ['https://rickandmortyapi.com/api/character/1',\n    'https://rickandmortyapi.com/api/character/2',\n    'https://rickandmortyapi.com/api/character/3',\n    'https://rickandmortyapi.com/api/character/4',\n    'https://rickandmortyapi.com/api/character/5',\n    'https://rickandmortyapi.com/api/character/24',\n    'https://rickandmortyapi.com/api/character/47',\n    'https://rickandmortyapi.com/api/character/115',\n    'https://rickandmortyapi.com/api/character/124',\n    'https://rickandmortyapi.com/api/character/138',\n    'https://rickandmortyapi.com/api/character/161',\n    'https://rickandmortyapi.com/api/character/162',\n    'https://rickandmortyapi.com/api/character/172',\n    'https://rickandmortyapi.com/api/character/182',\n    'https://rickandmortyapi.com/api/character/199',\n    'https://rickandmortyapi.com/api/character/212',\n    'https://rickandmortyapi.com/api/character/213',\n    'https://rickandmortyapi.com/api/character/240',\n    'https://rickandmortyapi.com/api/character/241',\n    'https://rickandmortyapi.com/api/character/253',\n    'https://rickandmortyapi.com/api/character/255',\n    'https://rickandmortyapi.com/api/character/272',\n    'https://rickandmortyapi.com/api/character/309',\n    'https://rickandmortyapi.com/api/character/329',\n    'https://rickandmortyapi.com/api/character/331',\n    'https://rickandmortyapi.com/api/character/344',\n    'https://rickandmortyapi.com/api/character/346',\n    'https://rickandmortyapi.com/api/character/347',\n    'https://rickandmortyapi.com/api/character/395',\n    'https://rickandmortyapi.com/api/character/452',\n    'https://rickandmortyapi.com/api/character/454'],\n   'url': 'https://rickandmortyapi.com/api/episode/16',\n   'created': '2017-11-10T12:56:35.364Z'},\n  {'id': 17,\n   'name': 'The Ricks Must Be Crazy',\n   'air_date': 'August 30, 2015',\n   'episode': 'S02E06',\n   'characters': ['https://rickandmortyapi.com/api/character/1',\n    'https://rickandmortyapi.com/api/character/2',\n    'https://rickandmortyapi.com/api/character/3',\n    'https://rickandmortyapi.com/api/character/28',\n    'https://rickandmortyapi.com/api/character/34',\n    'https://rickandmortyapi.com/api/character/65',\n    'https://rickandmortyapi.com/api/character/129',\n    'https://rickandmortyapi.com/api/character/159',\n    'https://rickandmortyapi.com/api/character/160',\n    'https://rickandmortyapi.com/api/character/180',\n    'https://rickandmortyapi.com/api/character/181',\n    'https://rickandmortyapi.com/api/character/197',\n    'https://rickandmortyapi.com/api/character/207',\n    'https://rickandmortyapi.com/api/character/240',\n    'https://rickandmortyapi.com/api/character/266',\n    'https://rickandmortyapi.com/api/character/348',\n    'https://rickandmortyapi.com/api/character/364',\n    'https://rickandmortyapi.com/api/character/388',\n    'https://rickandmortyapi.com/api/character/753'],\n   'url': 'https://rickandmortyapi.com/api/episode/17',\n   'created': '2017-11-10T12:56:35.467Z'},\n  {'id': 18,\n   'name': 'Big Trouble in Little Sanchez',\n   'air_date': 'September 13, 2015',\n   'episode': 'S02E07',\n   'characters': ['https://rickandmortyapi.com/api/character/1',\n    'https://rickandmortyapi.com/api/character/2',\n    'https://rickandmortyapi.com/api/character/3',\n    'https://rickandmortyapi.com/api/character/4',\n    'https://rickandmortyapi.com/api/character/5',\n    'https://rickandmortyapi.com/api/character/40',\n    'https://rickandmortyapi.com/api/character/55',\n    'https://rickandmortyapi.com/api/character/66',\n    'https://rickandmortyapi.com/api/character/131',\n    'https://rickandmortyapi.com/api/character/132',\n    'https://rickandmortyapi.com/api/character/146',\n    'https://rickandmortyapi.com/api/character/148',\n    'https://rickandmortyapi.com/api/character/163',\n    'https://rickandmortyapi.com/api/character/178',\n    'https://rickandmortyapi.com/api/character/180',\n    'https://rickandmortyapi.com/api/character/181',\n    'https://rickandmortyapi.com/api/character/240',\n    'https://rickandmortyapi.com/api/character/272',\n    'https://rickandmortyapi.com/api/character/310',\n    'https://rickandmortyapi.com/api/character/353',\n    'https://rickandmortyapi.com/api/character/354',\n    'https://rickandmortyapi.com/api/character/358',\n    'https://rickandmortyapi.com/api/character/374',\n    'https://rickandmortyapi.com/api/character/386',\n    'https://rickandmortyapi.com/api/character/387',\n    'https://rickandmortyapi.com/api/character/453'],\n   'url': 'https://rickandmortyapi.com/api/episode/18',\n   'created': '2017-11-10T12:56:35.569Z'},\n  {'id': 19,\n   'name': 'Interdimensional Cable 2: Tempting Fate',\n   'air_date': 'September 20, 2015',\n   'episode': 'S02E08',\n   'characters': ['https://rickandmortyapi.com/api/character/1',\n    'https://rickandmortyapi.com/api/character/2',\n    'https://rickandmortyapi.com/api/character/3',\n    'https://rickandmortyapi.com/api/character/4',\n    'https://rickandmortyapi.com/api/character/5',\n    'https://rickandmortyapi.com/api/character/23',\n    'https://rickandmortyapi.com/api/character/35',\n    'https://rickandmortyapi.com/api/character/49',\n    'https://rickandmortyapi.com/api/character/51',\n    'https://rickandmortyapi.com/api/character/105',\n    'https://rickandmortyapi.com/api/character/121',\n    'https://rickandmortyapi.com/api/character/126',\n    'https://rickandmortyapi.com/api/character/133',\n    'https://rickandmortyapi.com/api/character/153',\n    'https://rickandmortyapi.com/api/character/173',\n    'https://rickandmortyapi.com/api/character/199',\n    'https://rickandmortyapi.com/api/character/205',\n    'https://rickandmortyapi.com/api/character/223',\n    'https://rickandmortyapi.com/api/character/224',\n    'https://rickandmortyapi.com/api/character/225',\n    'https://rickandmortyapi.com/api/character/254',\n    'https://rickandmortyapi.com/api/character/260',\n    'https://rickandmortyapi.com/api/character/263',\n    'https://rickandmortyapi.com/api/character/264',\n    'https://rickandmortyapi.com/api/character/275',\n    'https://rickandmortyapi.com/api/character/312',\n    'https://rickandmortyapi.com/api/character/321',\n    'https://rickandmortyapi.com/api/character/334',\n    'https://rickandmortyapi.com/api/character/362',\n    'https://rickandmortyapi.com/api/character/371',\n    'https://rickandmortyapi.com/api/character/383',\n    'https://rickandmortyapi.com/api/character/384',\n    'https://rickandmortyapi.com/api/character/435',\n    'https://rickandmortyapi.com/api/character/454',\n    'https://rickandmortyapi.com/api/character/455',\n    'https://rickandmortyapi.com/api/character/456',\n    'https://rickandmortyapi.com/api/character/457',\n    'https://rickandmortyapi.com/api/character/458',\n    'https://rickandmortyapi.com/api/character/459',\n    'https://rickandmortyapi.com/api/character/460'],\n   'url': 'https://rickandmortyapi.com/api/episode/19',\n   'created': '2017-11-10T12:56:35.669Z'},\n  {'id': 20,\n   'name': \"Look Who's Purging Now\",\n   'air_date': 'September 27, 2015',\n   'episode': 'S02E09',\n   'characters': ['https://rickandmortyapi.com/api/character/1',\n    'https://rickandmortyapi.com/api/character/2',\n    'https://rickandmortyapi.com/api/character/3',\n    'https://rickandmortyapi.com/api/character/4',\n    'https://rickandmortyapi.com/api/character/5',\n    'https://rickandmortyapi.com/api/character/26',\n    'https://rickandmortyapi.com/api/character/139',\n    'https://rickandmortyapi.com/api/character/202',\n    'https://rickandmortyapi.com/api/character/273',\n    'https://rickandmortyapi.com/api/character/341'],\n   'url': 'https://rickandmortyapi.com/api/episode/20',\n   'created': '2017-11-10T12:56:35.772Z'}]}"
     },
     "execution_count": 41,
     "metadata": {},
     "output_type": "execute_result"
    }
   ],
   "source": [
    "import pandas as pd\n",
    "import requests\n",
    "\n",
    "# API: Rick and Morty\n",
    "# https://rickandmortyapi.com/\n",
    "url  = 'https://rickandmortyapi.com/api/episode'\n",
    "response = requests.get(url)\n",
    "response.json()\n",
    "# Utiliza a API para respostar ás seguintes preguntas:"
   ]
  },
  {
   "cell_type": "code",
   "execution_count": null,
   "metadata": {},
   "outputs": [],
   "source": [
    "# 1. Cantos episodios ten a serie?"
   ]
  },
  {
   "cell_type": "code",
   "execution_count": 20,
   "outputs": [
    {
     "name": "stdout",
     "output_type": "stream",
     "text": [
      "La serie tiene 51 episodios.\n"
     ]
    }
   ],
   "source": [
    "import requests\n",
    "\n",
    "url = 'https://rickandmortyapi.com/api/episode'\n",
    "\n",
    "response = requests.get(url)\n",
    "data = response.json()\n",
    "\n",
    "print('La serie tiene', data['info']['count'], 'episodios.')"
   ],
   "metadata": {
    "collapsed": false
   }
  },
  {
   "cell_type": "code",
   "execution_count": null,
   "metadata": {},
   "outputs": [],
   "source": [
    "# 2. En cantas páxinas se nos ofrece o resultado"
   ]
  },
  {
   "cell_type": "code",
   "execution_count": 19,
   "outputs": [
    {
     "name": "stdout",
     "output_type": "stream",
     "text": [
      "El resultado se nos ofrece en 3 páginas.\n"
     ]
    }
   ],
   "source": [
    "import requests\n",
    "\n",
    "url = 'https://rickandmortyapi.com/api/episode'\n",
    "\n",
    "response = requests.get(url)\n",
    "data = response.json()\n",
    "\n",
    "print('El resultado se nos ofrece en', data['info']['pages'], 'páginas.')"
   ],
   "metadata": {
    "collapsed": false
   }
  },
  {
   "cell_type": "code",
   "execution_count": null,
   "metadata": {},
   "outputs": [],
   "source": [
    "# 3. Mostra a información do primeiro episodio (json)"
   ]
  },
  {
   "cell_type": "code",
   "execution_count": 21,
   "metadata": {},
   "outputs": [
    {
     "name": "stdout",
     "output_type": "stream",
     "text": [
      "Información del primer episodio:\n",
      "Título: Pilot\n",
      "Número de episodio: S01E01\n",
      "Fecha de emisión: December 2, 2013\n"
     ]
    }
   ],
   "source": [
    "url = 'https://rickandmortyapi.com/api/episode'\n",
    "\n",
    "response = requests.get(url)\n",
    "data = response.json()\n",
    "\n",
    "print('Información del primer episodio:')\n",
    "print('Título:', data['results'][0]['name'])\n",
    "print('Número de episodio:', data['results'][0]['episode'])\n",
    "print('Fecha de emisión:', data['results'][0]['air_date'])"
   ]
  },
  {
   "attachments": {},
   "cell_type": "markdown",
   "metadata": {},
   "source": [
    "Pandas provee unha función para crear Dataframes. Trátase da función Dataframe(), á que podemos chamar de diferentes formas.\n",
    "\n",
    "Unha forma de crear Dataframes a partir de respostas JSON dunha API é pasarlle á función, directamente, unha lista de diccionarios cos datos que queremos engadir ao DataFrame.\n",
    "\n",
    "Outra forma, ás veces máis complicada, sería pasarlle unha lista de listas cos datos por fila (1 lista por fila), e indicar a maiores os títulos das diferentes columnas.\n",
    "\n",
    "Podes visitar a documenación para ter máis información."
   ]
  },
  {
   "cell_type": "code",
   "execution_count": null,
   "metadata": {},
   "outputs": [],
   "source": [
    "# 4. Crea un dataframe con TODOS os episodios da primeira páxina de resultados"
   ]
  },
  {
   "cell_type": "code",
   "execution_count": 38,
   "metadata": {},
   "outputs": [
    {
     "data": {
      "text/plain": "                                     Nombre Episodio    Fecha de emision\n0                                     Pilot   S01E01    December 2, 2013\n1                             Lawnmower Dog   S01E02    December 9, 2013\n2                              Anatomy Park   S01E03   December 16, 2013\n3                    M. Night Shaym-Aliens!   S01E04    January 13, 2014\n4                      Meeseeks and Destroy   S01E05    January 20, 2014\n5                            Rick Potion #9   S01E06    January 27, 2014\n6                       Raising Gazorpazorp   S01E07      March 10, 2014\n7                             Rixty Minutes   S01E08      March 17, 2014\n8           Something Ricked This Way Comes   S01E09      March 24, 2014\n9      Close Rick-counters of the Rick Kind   S01E10       April 7, 2014\n10                          Ricksy Business   S01E11      April 14, 2014\n11                         A Rickle in Time   S02E01       July 26, 2015\n12                           Mortynight Run   S02E02      August 2, 2015\n13                 Auto Erotic Assimilation   S02E03      August 9, 2015\n14                            Total Rickall   S02E04     August 16, 2015\n15                             Get Schwifty   S02E05     August 23, 2015\n16                  The Ricks Must Be Crazy   S02E06     August 30, 2015\n17            Big Trouble in Little Sanchez   S02E07  September 13, 2015\n18  Interdimensional Cable 2: Tempting Fate   S02E08  September 20, 2015\n19                   Look Who's Purging Now   S02E09  September 27, 2015",
      "text/html": "<div>\n<style scoped>\n    .dataframe tbody tr th:only-of-type {\n        vertical-align: middle;\n    }\n\n    .dataframe tbody tr th {\n        vertical-align: top;\n    }\n\n    .dataframe thead th {\n        text-align: right;\n    }\n</style>\n<table border=\"1\" class=\"dataframe\">\n  <thead>\n    <tr style=\"text-align: right;\">\n      <th></th>\n      <th>Nombre</th>\n      <th>Episodio</th>\n      <th>Fecha de emision</th>\n    </tr>\n  </thead>\n  <tbody>\n    <tr>\n      <th>0</th>\n      <td>Pilot</td>\n      <td>S01E01</td>\n      <td>December 2, 2013</td>\n    </tr>\n    <tr>\n      <th>1</th>\n      <td>Lawnmower Dog</td>\n      <td>S01E02</td>\n      <td>December 9, 2013</td>\n    </tr>\n    <tr>\n      <th>2</th>\n      <td>Anatomy Park</td>\n      <td>S01E03</td>\n      <td>December 16, 2013</td>\n    </tr>\n    <tr>\n      <th>3</th>\n      <td>M. Night Shaym-Aliens!</td>\n      <td>S01E04</td>\n      <td>January 13, 2014</td>\n    </tr>\n    <tr>\n      <th>4</th>\n      <td>Meeseeks and Destroy</td>\n      <td>S01E05</td>\n      <td>January 20, 2014</td>\n    </tr>\n    <tr>\n      <th>5</th>\n      <td>Rick Potion #9</td>\n      <td>S01E06</td>\n      <td>January 27, 2014</td>\n    </tr>\n    <tr>\n      <th>6</th>\n      <td>Raising Gazorpazorp</td>\n      <td>S01E07</td>\n      <td>March 10, 2014</td>\n    </tr>\n    <tr>\n      <th>7</th>\n      <td>Rixty Minutes</td>\n      <td>S01E08</td>\n      <td>March 17, 2014</td>\n    </tr>\n    <tr>\n      <th>8</th>\n      <td>Something Ricked This Way Comes</td>\n      <td>S01E09</td>\n      <td>March 24, 2014</td>\n    </tr>\n    <tr>\n      <th>9</th>\n      <td>Close Rick-counters of the Rick Kind</td>\n      <td>S01E10</td>\n      <td>April 7, 2014</td>\n    </tr>\n    <tr>\n      <th>10</th>\n      <td>Ricksy Business</td>\n      <td>S01E11</td>\n      <td>April 14, 2014</td>\n    </tr>\n    <tr>\n      <th>11</th>\n      <td>A Rickle in Time</td>\n      <td>S02E01</td>\n      <td>July 26, 2015</td>\n    </tr>\n    <tr>\n      <th>12</th>\n      <td>Mortynight Run</td>\n      <td>S02E02</td>\n      <td>August 2, 2015</td>\n    </tr>\n    <tr>\n      <th>13</th>\n      <td>Auto Erotic Assimilation</td>\n      <td>S02E03</td>\n      <td>August 9, 2015</td>\n    </tr>\n    <tr>\n      <th>14</th>\n      <td>Total Rickall</td>\n      <td>S02E04</td>\n      <td>August 16, 2015</td>\n    </tr>\n    <tr>\n      <th>15</th>\n      <td>Get Schwifty</td>\n      <td>S02E05</td>\n      <td>August 23, 2015</td>\n    </tr>\n    <tr>\n      <th>16</th>\n      <td>The Ricks Must Be Crazy</td>\n      <td>S02E06</td>\n      <td>August 30, 2015</td>\n    </tr>\n    <tr>\n      <th>17</th>\n      <td>Big Trouble in Little Sanchez</td>\n      <td>S02E07</td>\n      <td>September 13, 2015</td>\n    </tr>\n    <tr>\n      <th>18</th>\n      <td>Interdimensional Cable 2: Tempting Fate</td>\n      <td>S02E08</td>\n      <td>September 20, 2015</td>\n    </tr>\n    <tr>\n      <th>19</th>\n      <td>Look Who's Purging Now</td>\n      <td>S02E09</td>\n      <td>September 27, 2015</td>\n    </tr>\n  </tbody>\n</table>\n</div>"
     },
     "execution_count": 38,
     "metadata": {},
     "output_type": "execute_result"
    }
   ],
   "source": [
    "url = 'https://rickandmortyapi.com/api/episode'\n",
    "\n",
    "respuesta = requests.get(url)\n",
    "diccionario = respuesta.json()\n",
    "\n",
    "numero_paginas = 1\n",
    "\n",
    "datos = []\n",
    "for pagina in range(1, numero_paginas + 1):\n",
    "    url = 'https://rickandmortyapi.com/api/episode?page={}'.format(pagina)\n",
    "    respuesta = requests.get(url)\n",
    "    diccionario = respuesta.json()\n",
    "    resultados = diccionario['results']\n",
    "    for episodio in resultados:\n",
    "        datos.append({\n",
    "            'Nombre': episodio['name'],\n",
    "            'Episodio': episodio['episode'],\n",
    "            'Fecha de emision': episodio['air_date']\n",
    "        })\n",
    "\n",
    "df = pd.DataFrame(datos)\n",
    "\n",
    "df"
   ]
  },
  {
   "cell_type": "code",
   "execution_count": null,
   "metadata": {},
   "outputs": [],
   "source": [
    "# 5. Crea un dataframe con TODOS os episodios (de todas as páxinas)"
   ]
  },
  {
   "cell_type": "code",
   "execution_count": 36,
   "metadata": {},
   "outputs": [
    {
     "data": {
      "text/plain": "                                         Nombre Episodio    Fecha de emision\n0                                         Pilot   S01E01    December 2, 2013\n1                                 Lawnmower Dog   S01E02    December 9, 2013\n2                                  Anatomy Park   S01E03   December 16, 2013\n3                        M. Night Shaym-Aliens!   S01E04    January 13, 2014\n4                          Meeseeks and Destroy   S01E05    January 20, 2014\n5                                Rick Potion #9   S01E06    January 27, 2014\n6                           Raising Gazorpazorp   S01E07      March 10, 2014\n7                                 Rixty Minutes   S01E08      March 17, 2014\n8               Something Ricked This Way Comes   S01E09      March 24, 2014\n9          Close Rick-counters of the Rick Kind   S01E10       April 7, 2014\n10                              Ricksy Business   S01E11      April 14, 2014\n11                             A Rickle in Time   S02E01       July 26, 2015\n12                               Mortynight Run   S02E02      August 2, 2015\n13                     Auto Erotic Assimilation   S02E03      August 9, 2015\n14                                Total Rickall   S02E04     August 16, 2015\n15                                 Get Schwifty   S02E05     August 23, 2015\n16                      The Ricks Must Be Crazy   S02E06     August 30, 2015\n17                Big Trouble in Little Sanchez   S02E07  September 13, 2015\n18      Interdimensional Cable 2: Tempting Fate   S02E08  September 20, 2015\n19                       Look Who's Purging Now   S02E09  September 27, 2015\n20                       The Wedding Squanchers   S02E10     October 4, 2015\n21                   The Rickshank Rickdemption   S03E01       April 1, 2017\n22                        Rickmancing the Stone   S03E02       July 30, 2017\n23                                  Pickle Rick   S03E03      August 6, 2017\n24      Vindicators 3: The Return of Worldender   S03E04     August 13, 2017\n25                  The Whirly Dirly Conspiracy   S03E05     August 20, 2017\n26                        Rest and Ricklaxation   S03E06     August 27, 2017\n27                         The Ricklantis Mixup   S03E07  September 10, 2017\n28                         Morty's Mind Blowers   S03E08  September 17, 2017\n29                            The ABC's of Beth   S03E09  September 24, 2017\n30                    The Rickchurian Mortydate   S03E10     October 1, 2017\n31         Edge of Tomorty: Rick, Die, Rickpeat   S04E01   November 10, 2019\n32                     The Old Man and the Seat   S04E02   November 17, 2019\n33            One Crew Over the Crewcoo's Morty   S04E03   November 24, 2019\n34    Claw and Hoarder: Special Ricktim's Morty   S04E04    December 8, 2019\n35                       Rattlestar Ricklactica   S04E05   December 15, 2019\n36                          Never Ricking Morty   S04E06         May 3, 2020\n37                                   Promortyus   S04E07        May 10, 2020\n38                      The Vat of Acid Episode   S04E08        May 17, 2020\n39                            Childrick of Mort   S04E09        May 24, 2020\n40             Star Mort: Rickturn of the Jerri   S04E10        May 31, 2020\n41                       Mort Dinner Rick Andre   S05E01       June 20, 2021\n42                                 Mortyplicity   S05E02       June 27, 2021\n43                        A Rickconvenient Mort   S05E03        July 4, 2021\n44                         Rickdependence Spray   S05E04       July 11, 2021\n45                         Amortycan Grickfitti   S05E05       July 18, 2021\n46  Rick & Morty's Thanksploitation Spectacular   S05E06       July 25, 2021\n47                Gotron Jerrysis Rickvangelion   S05E07      August 1, 2021\n48  Rickternal Friendshine of the Spotless Mort   S05E08      August 8, 2021\n49                  Forgetting Sarick Mortshall   S05E09   September 5, 2021\n50                               Rickmurai Jack   S05E10   September 5, 2021",
      "text/html": "<div>\n<style scoped>\n    .dataframe tbody tr th:only-of-type {\n        vertical-align: middle;\n    }\n\n    .dataframe tbody tr th {\n        vertical-align: top;\n    }\n\n    .dataframe thead th {\n        text-align: right;\n    }\n</style>\n<table border=\"1\" class=\"dataframe\">\n  <thead>\n    <tr style=\"text-align: right;\">\n      <th></th>\n      <th>Nombre</th>\n      <th>Episodio</th>\n      <th>Fecha de emision</th>\n    </tr>\n  </thead>\n  <tbody>\n    <tr>\n      <th>0</th>\n      <td>Pilot</td>\n      <td>S01E01</td>\n      <td>December 2, 2013</td>\n    </tr>\n    <tr>\n      <th>1</th>\n      <td>Lawnmower Dog</td>\n      <td>S01E02</td>\n      <td>December 9, 2013</td>\n    </tr>\n    <tr>\n      <th>2</th>\n      <td>Anatomy Park</td>\n      <td>S01E03</td>\n      <td>December 16, 2013</td>\n    </tr>\n    <tr>\n      <th>3</th>\n      <td>M. Night Shaym-Aliens!</td>\n      <td>S01E04</td>\n      <td>January 13, 2014</td>\n    </tr>\n    <tr>\n      <th>4</th>\n      <td>Meeseeks and Destroy</td>\n      <td>S01E05</td>\n      <td>January 20, 2014</td>\n    </tr>\n    <tr>\n      <th>5</th>\n      <td>Rick Potion #9</td>\n      <td>S01E06</td>\n      <td>January 27, 2014</td>\n    </tr>\n    <tr>\n      <th>6</th>\n      <td>Raising Gazorpazorp</td>\n      <td>S01E07</td>\n      <td>March 10, 2014</td>\n    </tr>\n    <tr>\n      <th>7</th>\n      <td>Rixty Minutes</td>\n      <td>S01E08</td>\n      <td>March 17, 2014</td>\n    </tr>\n    <tr>\n      <th>8</th>\n      <td>Something Ricked This Way Comes</td>\n      <td>S01E09</td>\n      <td>March 24, 2014</td>\n    </tr>\n    <tr>\n      <th>9</th>\n      <td>Close Rick-counters of the Rick Kind</td>\n      <td>S01E10</td>\n      <td>April 7, 2014</td>\n    </tr>\n    <tr>\n      <th>10</th>\n      <td>Ricksy Business</td>\n      <td>S01E11</td>\n      <td>April 14, 2014</td>\n    </tr>\n    <tr>\n      <th>11</th>\n      <td>A Rickle in Time</td>\n      <td>S02E01</td>\n      <td>July 26, 2015</td>\n    </tr>\n    <tr>\n      <th>12</th>\n      <td>Mortynight Run</td>\n      <td>S02E02</td>\n      <td>August 2, 2015</td>\n    </tr>\n    <tr>\n      <th>13</th>\n      <td>Auto Erotic Assimilation</td>\n      <td>S02E03</td>\n      <td>August 9, 2015</td>\n    </tr>\n    <tr>\n      <th>14</th>\n      <td>Total Rickall</td>\n      <td>S02E04</td>\n      <td>August 16, 2015</td>\n    </tr>\n    <tr>\n      <th>15</th>\n      <td>Get Schwifty</td>\n      <td>S02E05</td>\n      <td>August 23, 2015</td>\n    </tr>\n    <tr>\n      <th>16</th>\n      <td>The Ricks Must Be Crazy</td>\n      <td>S02E06</td>\n      <td>August 30, 2015</td>\n    </tr>\n    <tr>\n      <th>17</th>\n      <td>Big Trouble in Little Sanchez</td>\n      <td>S02E07</td>\n      <td>September 13, 2015</td>\n    </tr>\n    <tr>\n      <th>18</th>\n      <td>Interdimensional Cable 2: Tempting Fate</td>\n      <td>S02E08</td>\n      <td>September 20, 2015</td>\n    </tr>\n    <tr>\n      <th>19</th>\n      <td>Look Who's Purging Now</td>\n      <td>S02E09</td>\n      <td>September 27, 2015</td>\n    </tr>\n    <tr>\n      <th>20</th>\n      <td>The Wedding Squanchers</td>\n      <td>S02E10</td>\n      <td>October 4, 2015</td>\n    </tr>\n    <tr>\n      <th>21</th>\n      <td>The Rickshank Rickdemption</td>\n      <td>S03E01</td>\n      <td>April 1, 2017</td>\n    </tr>\n    <tr>\n      <th>22</th>\n      <td>Rickmancing the Stone</td>\n      <td>S03E02</td>\n      <td>July 30, 2017</td>\n    </tr>\n    <tr>\n      <th>23</th>\n      <td>Pickle Rick</td>\n      <td>S03E03</td>\n      <td>August 6, 2017</td>\n    </tr>\n    <tr>\n      <th>24</th>\n      <td>Vindicators 3: The Return of Worldender</td>\n      <td>S03E04</td>\n      <td>August 13, 2017</td>\n    </tr>\n    <tr>\n      <th>25</th>\n      <td>The Whirly Dirly Conspiracy</td>\n      <td>S03E05</td>\n      <td>August 20, 2017</td>\n    </tr>\n    <tr>\n      <th>26</th>\n      <td>Rest and Ricklaxation</td>\n      <td>S03E06</td>\n      <td>August 27, 2017</td>\n    </tr>\n    <tr>\n      <th>27</th>\n      <td>The Ricklantis Mixup</td>\n      <td>S03E07</td>\n      <td>September 10, 2017</td>\n    </tr>\n    <tr>\n      <th>28</th>\n      <td>Morty's Mind Blowers</td>\n      <td>S03E08</td>\n      <td>September 17, 2017</td>\n    </tr>\n    <tr>\n      <th>29</th>\n      <td>The ABC's of Beth</td>\n      <td>S03E09</td>\n      <td>September 24, 2017</td>\n    </tr>\n    <tr>\n      <th>30</th>\n      <td>The Rickchurian Mortydate</td>\n      <td>S03E10</td>\n      <td>October 1, 2017</td>\n    </tr>\n    <tr>\n      <th>31</th>\n      <td>Edge of Tomorty: Rick, Die, Rickpeat</td>\n      <td>S04E01</td>\n      <td>November 10, 2019</td>\n    </tr>\n    <tr>\n      <th>32</th>\n      <td>The Old Man and the Seat</td>\n      <td>S04E02</td>\n      <td>November 17, 2019</td>\n    </tr>\n    <tr>\n      <th>33</th>\n      <td>One Crew Over the Crewcoo's Morty</td>\n      <td>S04E03</td>\n      <td>November 24, 2019</td>\n    </tr>\n    <tr>\n      <th>34</th>\n      <td>Claw and Hoarder: Special Ricktim's Morty</td>\n      <td>S04E04</td>\n      <td>December 8, 2019</td>\n    </tr>\n    <tr>\n      <th>35</th>\n      <td>Rattlestar Ricklactica</td>\n      <td>S04E05</td>\n      <td>December 15, 2019</td>\n    </tr>\n    <tr>\n      <th>36</th>\n      <td>Never Ricking Morty</td>\n      <td>S04E06</td>\n      <td>May 3, 2020</td>\n    </tr>\n    <tr>\n      <th>37</th>\n      <td>Promortyus</td>\n      <td>S04E07</td>\n      <td>May 10, 2020</td>\n    </tr>\n    <tr>\n      <th>38</th>\n      <td>The Vat of Acid Episode</td>\n      <td>S04E08</td>\n      <td>May 17, 2020</td>\n    </tr>\n    <tr>\n      <th>39</th>\n      <td>Childrick of Mort</td>\n      <td>S04E09</td>\n      <td>May 24, 2020</td>\n    </tr>\n    <tr>\n      <th>40</th>\n      <td>Star Mort: Rickturn of the Jerri</td>\n      <td>S04E10</td>\n      <td>May 31, 2020</td>\n    </tr>\n    <tr>\n      <th>41</th>\n      <td>Mort Dinner Rick Andre</td>\n      <td>S05E01</td>\n      <td>June 20, 2021</td>\n    </tr>\n    <tr>\n      <th>42</th>\n      <td>Mortyplicity</td>\n      <td>S05E02</td>\n      <td>June 27, 2021</td>\n    </tr>\n    <tr>\n      <th>43</th>\n      <td>A Rickconvenient Mort</td>\n      <td>S05E03</td>\n      <td>July 4, 2021</td>\n    </tr>\n    <tr>\n      <th>44</th>\n      <td>Rickdependence Spray</td>\n      <td>S05E04</td>\n      <td>July 11, 2021</td>\n    </tr>\n    <tr>\n      <th>45</th>\n      <td>Amortycan Grickfitti</td>\n      <td>S05E05</td>\n      <td>July 18, 2021</td>\n    </tr>\n    <tr>\n      <th>46</th>\n      <td>Rick &amp; Morty's Thanksploitation Spectacular</td>\n      <td>S05E06</td>\n      <td>July 25, 2021</td>\n    </tr>\n    <tr>\n      <th>47</th>\n      <td>Gotron Jerrysis Rickvangelion</td>\n      <td>S05E07</td>\n      <td>August 1, 2021</td>\n    </tr>\n    <tr>\n      <th>48</th>\n      <td>Rickternal Friendshine of the Spotless Mort</td>\n      <td>S05E08</td>\n      <td>August 8, 2021</td>\n    </tr>\n    <tr>\n      <th>49</th>\n      <td>Forgetting Sarick Mortshall</td>\n      <td>S05E09</td>\n      <td>September 5, 2021</td>\n    </tr>\n    <tr>\n      <th>50</th>\n      <td>Rickmurai Jack</td>\n      <td>S05E10</td>\n      <td>September 5, 2021</td>\n    </tr>\n  </tbody>\n</table>\n</div>"
     },
     "execution_count": 36,
     "metadata": {},
     "output_type": "execute_result"
    }
   ],
   "source": [
    "url = 'https://rickandmortyapi.com/api/episode'\n",
    "\n",
    "respuesta = requests.get(url)\n",
    "diccionario = respuesta.json()\n",
    "\n",
    "numero_paginas = diccionario['info']['pages']\n",
    "\n",
    "datos = []\n",
    "for pagina in range(1, numero_paginas + 1):\n",
    "    url = 'https://rickandmortyapi.com/api/episode?page={}'.format(pagina)\n",
    "    respuesta = requests.get(url)\n",
    "    diccionario = respuesta.json()\n",
    "    resultados = diccionario['results']\n",
    "    for episodio in resultados:\n",
    "        datos.append({\n",
    "            'Nombre': episodio['name'],\n",
    "            'Episodio': episodio['episode'],\n",
    "            'Fecha de emision': episodio['air_date']\n",
    "        })\n",
    "\n",
    "df = pd.DataFrame(datos)\n",
    "\n",
    "df"
   ]
  },
  {
   "cell_type": "code",
   "execution_count": null,
   "metadata": {},
   "outputs": [],
   "source": [
    "# 6. Elimina a columna dos personaxes (en caso de que exista) do dataframe que contén todos os episodios"
   ]
  },
  {
   "cell_type": "code",
   "execution_count": 42,
   "metadata": {},
   "outputs": [
    {
     "ename": "KeyError",
     "evalue": "\"['Personajes'] not found in axis\"",
     "output_type": "error",
     "traceback": [
      "\u001B[1;31m---------------------------------------------------------------------------\u001B[0m",
      "\u001B[1;31mKeyError\u001B[0m                                  Traceback (most recent call last)",
      "Cell \u001B[1;32mIn[42], line 26\u001B[0m\n\u001B[0;32m     18\u001B[0m         datos\u001B[38;5;241m.\u001B[39mappend({\n\u001B[0;32m     19\u001B[0m             \u001B[38;5;124m'\u001B[39m\u001B[38;5;124mNombre\u001B[39m\u001B[38;5;124m'\u001B[39m: episodio[\u001B[38;5;124m'\u001B[39m\u001B[38;5;124mname\u001B[39m\u001B[38;5;124m'\u001B[39m],\n\u001B[0;32m     20\u001B[0m             \u001B[38;5;124m'\u001B[39m\u001B[38;5;124mEpisodio\u001B[39m\u001B[38;5;124m'\u001B[39m: episodio[\u001B[38;5;124m'\u001B[39m\u001B[38;5;124mepisode\u001B[39m\u001B[38;5;124m'\u001B[39m],\n\u001B[0;32m     21\u001B[0m             \u001B[38;5;124m'\u001B[39m\u001B[38;5;124mFecha de emision\u001B[39m\u001B[38;5;124m'\u001B[39m: episodio[\u001B[38;5;124m'\u001B[39m\u001B[38;5;124mair_date\u001B[39m\u001B[38;5;124m'\u001B[39m]\n\u001B[0;32m     22\u001B[0m         })\n\u001B[0;32m     24\u001B[0m df \u001B[38;5;241m=\u001B[39m pd\u001B[38;5;241m.\u001B[39mDataFrame(datos)\n\u001B[1;32m---> 26\u001B[0m \u001B[43mdf\u001B[49m\u001B[38;5;241;43m.\u001B[39;49m\u001B[43mdrop\u001B[49m\u001B[43m(\u001B[49m\u001B[43mcolumns\u001B[49m\u001B[38;5;241;43m=\u001B[39;49m\u001B[43m[\u001B[49m\u001B[38;5;124;43m'\u001B[39;49m\u001B[38;5;124;43mPersonajes\u001B[39;49m\u001B[38;5;124;43m'\u001B[39;49m\u001B[43m]\u001B[49m\u001B[43m,\u001B[49m\u001B[43m \u001B[49m\u001B[43minplace\u001B[49m\u001B[38;5;241;43m=\u001B[39;49m\u001B[38;5;28;43;01mTrue\u001B[39;49;00m\u001B[43m)\u001B[49m\n\u001B[0;32m     28\u001B[0m df\n",
      "File \u001B[1;32m~\\AppData\\Local\\Programs\\Python\\Python39\\lib\\site-packages\\pandas\\util\\_decorators.py:331\u001B[0m, in \u001B[0;36mdeprecate_nonkeyword_arguments.<locals>.decorate.<locals>.wrapper\u001B[1;34m(*args, **kwargs)\u001B[0m\n\u001B[0;32m    325\u001B[0m \u001B[38;5;28;01mif\u001B[39;00m \u001B[38;5;28mlen\u001B[39m(args) \u001B[38;5;241m>\u001B[39m num_allow_args:\n\u001B[0;32m    326\u001B[0m     warnings\u001B[38;5;241m.\u001B[39mwarn(\n\u001B[0;32m    327\u001B[0m         msg\u001B[38;5;241m.\u001B[39mformat(arguments\u001B[38;5;241m=\u001B[39m_format_argument_list(allow_args)),\n\u001B[0;32m    328\u001B[0m         \u001B[38;5;167;01mFutureWarning\u001B[39;00m,\n\u001B[0;32m    329\u001B[0m         stacklevel\u001B[38;5;241m=\u001B[39mfind_stack_level(),\n\u001B[0;32m    330\u001B[0m     )\n\u001B[1;32m--> 331\u001B[0m \u001B[38;5;28;01mreturn\u001B[39;00m func(\u001B[38;5;241m*\u001B[39margs, \u001B[38;5;241m*\u001B[39m\u001B[38;5;241m*\u001B[39mkwargs)\n",
      "File \u001B[1;32m~\\AppData\\Local\\Programs\\Python\\Python39\\lib\\site-packages\\pandas\\core\\frame.py:5396\u001B[0m, in \u001B[0;36mDataFrame.drop\u001B[1;34m(self, labels, axis, index, columns, level, inplace, errors)\u001B[0m\n\u001B[0;32m   5248\u001B[0m \u001B[38;5;129m@deprecate_nonkeyword_arguments\u001B[39m(version\u001B[38;5;241m=\u001B[39m\u001B[38;5;28;01mNone\u001B[39;00m, allowed_args\u001B[38;5;241m=\u001B[39m[\u001B[38;5;124m\"\u001B[39m\u001B[38;5;124mself\u001B[39m\u001B[38;5;124m\"\u001B[39m, \u001B[38;5;124m\"\u001B[39m\u001B[38;5;124mlabels\u001B[39m\u001B[38;5;124m\"\u001B[39m])\n\u001B[0;32m   5249\u001B[0m \u001B[38;5;28;01mdef\u001B[39;00m \u001B[38;5;21mdrop\u001B[39m(  \u001B[38;5;66;03m# type: ignore[override]\u001B[39;00m\n\u001B[0;32m   5250\u001B[0m     \u001B[38;5;28mself\u001B[39m,\n\u001B[1;32m   (...)\u001B[0m\n\u001B[0;32m   5257\u001B[0m     errors: IgnoreRaise \u001B[38;5;241m=\u001B[39m \u001B[38;5;124m\"\u001B[39m\u001B[38;5;124mraise\u001B[39m\u001B[38;5;124m\"\u001B[39m,\n\u001B[0;32m   5258\u001B[0m ) \u001B[38;5;241m-\u001B[39m\u001B[38;5;241m>\u001B[39m DataFrame \u001B[38;5;241m|\u001B[39m \u001B[38;5;28;01mNone\u001B[39;00m:\n\u001B[0;32m   5259\u001B[0m     \u001B[38;5;124;03m\"\"\"\u001B[39;00m\n\u001B[0;32m   5260\u001B[0m \u001B[38;5;124;03m    Drop specified labels from rows or columns.\u001B[39;00m\n\u001B[0;32m   5261\u001B[0m \n\u001B[1;32m   (...)\u001B[0m\n\u001B[0;32m   5394\u001B[0m \u001B[38;5;124;03m            weight  1.0     0.8\u001B[39;00m\n\u001B[0;32m   5395\u001B[0m \u001B[38;5;124;03m    \"\"\"\u001B[39;00m\n\u001B[1;32m-> 5396\u001B[0m     \u001B[38;5;28;01mreturn\u001B[39;00m \u001B[38;5;28;43msuper\u001B[39;49m\u001B[43m(\u001B[49m\u001B[43m)\u001B[49m\u001B[38;5;241;43m.\u001B[39;49m\u001B[43mdrop\u001B[49m\u001B[43m(\u001B[49m\n\u001B[0;32m   5397\u001B[0m \u001B[43m        \u001B[49m\u001B[43mlabels\u001B[49m\u001B[38;5;241;43m=\u001B[39;49m\u001B[43mlabels\u001B[49m\u001B[43m,\u001B[49m\n\u001B[0;32m   5398\u001B[0m \u001B[43m        \u001B[49m\u001B[43maxis\u001B[49m\u001B[38;5;241;43m=\u001B[39;49m\u001B[43maxis\u001B[49m\u001B[43m,\u001B[49m\n\u001B[0;32m   5399\u001B[0m \u001B[43m        \u001B[49m\u001B[43mindex\u001B[49m\u001B[38;5;241;43m=\u001B[39;49m\u001B[43mindex\u001B[49m\u001B[43m,\u001B[49m\n\u001B[0;32m   5400\u001B[0m \u001B[43m        \u001B[49m\u001B[43mcolumns\u001B[49m\u001B[38;5;241;43m=\u001B[39;49m\u001B[43mcolumns\u001B[49m\u001B[43m,\u001B[49m\n\u001B[0;32m   5401\u001B[0m \u001B[43m        \u001B[49m\u001B[43mlevel\u001B[49m\u001B[38;5;241;43m=\u001B[39;49m\u001B[43mlevel\u001B[49m\u001B[43m,\u001B[49m\n\u001B[0;32m   5402\u001B[0m \u001B[43m        \u001B[49m\u001B[43minplace\u001B[49m\u001B[38;5;241;43m=\u001B[39;49m\u001B[43minplace\u001B[49m\u001B[43m,\u001B[49m\n\u001B[0;32m   5403\u001B[0m \u001B[43m        \u001B[49m\u001B[43merrors\u001B[49m\u001B[38;5;241;43m=\u001B[39;49m\u001B[43merrors\u001B[49m\u001B[43m,\u001B[49m\n\u001B[0;32m   5404\u001B[0m \u001B[43m    \u001B[49m\u001B[43m)\u001B[49m\n",
      "File \u001B[1;32m~\\AppData\\Local\\Programs\\Python\\Python39\\lib\\site-packages\\pandas\\util\\_decorators.py:331\u001B[0m, in \u001B[0;36mdeprecate_nonkeyword_arguments.<locals>.decorate.<locals>.wrapper\u001B[1;34m(*args, **kwargs)\u001B[0m\n\u001B[0;32m    325\u001B[0m \u001B[38;5;28;01mif\u001B[39;00m \u001B[38;5;28mlen\u001B[39m(args) \u001B[38;5;241m>\u001B[39m num_allow_args:\n\u001B[0;32m    326\u001B[0m     warnings\u001B[38;5;241m.\u001B[39mwarn(\n\u001B[0;32m    327\u001B[0m         msg\u001B[38;5;241m.\u001B[39mformat(arguments\u001B[38;5;241m=\u001B[39m_format_argument_list(allow_args)),\n\u001B[0;32m    328\u001B[0m         \u001B[38;5;167;01mFutureWarning\u001B[39;00m,\n\u001B[0;32m    329\u001B[0m         stacklevel\u001B[38;5;241m=\u001B[39mfind_stack_level(),\n\u001B[0;32m    330\u001B[0m     )\n\u001B[1;32m--> 331\u001B[0m \u001B[38;5;28;01mreturn\u001B[39;00m func(\u001B[38;5;241m*\u001B[39margs, \u001B[38;5;241m*\u001B[39m\u001B[38;5;241m*\u001B[39mkwargs)\n",
      "File \u001B[1;32m~\\AppData\\Local\\Programs\\Python\\Python39\\lib\\site-packages\\pandas\\core\\generic.py:4505\u001B[0m, in \u001B[0;36mNDFrame.drop\u001B[1;34m(self, labels, axis, index, columns, level, inplace, errors)\u001B[0m\n\u001B[0;32m   4503\u001B[0m \u001B[38;5;28;01mfor\u001B[39;00m axis, labels \u001B[38;5;129;01min\u001B[39;00m axes\u001B[38;5;241m.\u001B[39mitems():\n\u001B[0;32m   4504\u001B[0m     \u001B[38;5;28;01mif\u001B[39;00m labels \u001B[38;5;129;01mis\u001B[39;00m \u001B[38;5;129;01mnot\u001B[39;00m \u001B[38;5;28;01mNone\u001B[39;00m:\n\u001B[1;32m-> 4505\u001B[0m         obj \u001B[38;5;241m=\u001B[39m \u001B[43mobj\u001B[49m\u001B[38;5;241;43m.\u001B[39;49m\u001B[43m_drop_axis\u001B[49m\u001B[43m(\u001B[49m\u001B[43mlabels\u001B[49m\u001B[43m,\u001B[49m\u001B[43m \u001B[49m\u001B[43maxis\u001B[49m\u001B[43m,\u001B[49m\u001B[43m \u001B[49m\u001B[43mlevel\u001B[49m\u001B[38;5;241;43m=\u001B[39;49m\u001B[43mlevel\u001B[49m\u001B[43m,\u001B[49m\u001B[43m \u001B[49m\u001B[43merrors\u001B[49m\u001B[38;5;241;43m=\u001B[39;49m\u001B[43merrors\u001B[49m\u001B[43m)\u001B[49m\n\u001B[0;32m   4507\u001B[0m \u001B[38;5;28;01mif\u001B[39;00m inplace:\n\u001B[0;32m   4508\u001B[0m     \u001B[38;5;28mself\u001B[39m\u001B[38;5;241m.\u001B[39m_update_inplace(obj)\n",
      "File \u001B[1;32m~\\AppData\\Local\\Programs\\Python\\Python39\\lib\\site-packages\\pandas\\core\\generic.py:4546\u001B[0m, in \u001B[0;36mNDFrame._drop_axis\u001B[1;34m(self, labels, axis, level, errors, only_slice)\u001B[0m\n\u001B[0;32m   4544\u001B[0m         new_axis \u001B[38;5;241m=\u001B[39m axis\u001B[38;5;241m.\u001B[39mdrop(labels, level\u001B[38;5;241m=\u001B[39mlevel, errors\u001B[38;5;241m=\u001B[39merrors)\n\u001B[0;32m   4545\u001B[0m     \u001B[38;5;28;01melse\u001B[39;00m:\n\u001B[1;32m-> 4546\u001B[0m         new_axis \u001B[38;5;241m=\u001B[39m \u001B[43maxis\u001B[49m\u001B[38;5;241;43m.\u001B[39;49m\u001B[43mdrop\u001B[49m\u001B[43m(\u001B[49m\u001B[43mlabels\u001B[49m\u001B[43m,\u001B[49m\u001B[43m \u001B[49m\u001B[43merrors\u001B[49m\u001B[38;5;241;43m=\u001B[39;49m\u001B[43merrors\u001B[49m\u001B[43m)\u001B[49m\n\u001B[0;32m   4547\u001B[0m     indexer \u001B[38;5;241m=\u001B[39m axis\u001B[38;5;241m.\u001B[39mget_indexer(new_axis)\n\u001B[0;32m   4549\u001B[0m \u001B[38;5;66;03m# Case for non-unique axis\u001B[39;00m\n\u001B[0;32m   4550\u001B[0m \u001B[38;5;28;01melse\u001B[39;00m:\n",
      "File \u001B[1;32m~\\AppData\\Local\\Programs\\Python\\Python39\\lib\\site-packages\\pandas\\core\\indexes\\base.py:6977\u001B[0m, in \u001B[0;36mIndex.drop\u001B[1;34m(self, labels, errors)\u001B[0m\n\u001B[0;32m   6975\u001B[0m \u001B[38;5;28;01mif\u001B[39;00m mask\u001B[38;5;241m.\u001B[39many():\n\u001B[0;32m   6976\u001B[0m     \u001B[38;5;28;01mif\u001B[39;00m errors \u001B[38;5;241m!=\u001B[39m \u001B[38;5;124m\"\u001B[39m\u001B[38;5;124mignore\u001B[39m\u001B[38;5;124m\"\u001B[39m:\n\u001B[1;32m-> 6977\u001B[0m         \u001B[38;5;28;01mraise\u001B[39;00m \u001B[38;5;167;01mKeyError\u001B[39;00m(\u001B[38;5;124mf\u001B[39m\u001B[38;5;124m\"\u001B[39m\u001B[38;5;132;01m{\u001B[39;00m\u001B[38;5;28mlist\u001B[39m(labels[mask])\u001B[38;5;132;01m}\u001B[39;00m\u001B[38;5;124m not found in axis\u001B[39m\u001B[38;5;124m\"\u001B[39m)\n\u001B[0;32m   6978\u001B[0m     indexer \u001B[38;5;241m=\u001B[39m indexer[\u001B[38;5;241m~\u001B[39mmask]\n\u001B[0;32m   6979\u001B[0m \u001B[38;5;28;01mreturn\u001B[39;00m \u001B[38;5;28mself\u001B[39m\u001B[38;5;241m.\u001B[39mdelete(indexer)\n",
      "\u001B[1;31mKeyError\u001B[0m: \"['Personajes'] not found in axis\""
     ]
    }
   ],
   "source": [
    "url = 'https://rickandmortyapi.com/api/episode'\n",
    "\n",
    "respuesta = requests.get(url)\n",
    "diccionario = respuesta.json()\n",
    "\n",
    "numero_paginas = diccionario['info']['pages']\n",
    "\n",
    "datos = []\n",
    "for pagina in range(1, numero_paginas + 1):\n",
    "    url = 'https://rickandmortyapi.com/api/episode?page={}'.format(pagina)\n",
    "    respuesta = requests.get(url)\n",
    "    diccionario = respuesta.json()\n",
    "    resultados = diccionario['results']\n",
    "    for episodio in resultados:\n",
    "        datos.append({\n",
    "            'Nombre': episodio['name'],\n",
    "            'Episodio': episodio['episode'],\n",
    "            'Fecha de emision': episodio['air_date']\n",
    "        })\n",
    "\n",
    "df = pd.DataFrame(datos)\n",
    "\n",
    "df.drop(columns=['Personajes'], inplace=True)\n",
    "\n",
    "df"
   ]
  },
  {
   "cell_type": "code",
   "execution_count": null,
   "metadata": {},
   "outputs": [],
   "source": [
    "# 7. Elimina a columna \"created\" (en caso de que exista) do dataframe que contén todos os episodios"
   ]
  },
  {
   "cell_type": "code",
   "execution_count": null,
   "metadata": {},
   "outputs": [],
   "source": [
    "url = 'https://rickandmortyapi.com/api/episode'\n",
    "\n",
    "respuesta = requests.get(url)\n",
    "diccionario = respuesta.json()\n",
    "\n",
    "numero_paginas = diccionario['info']['pages']\n",
    "\n",
    "datos = []\n",
    "for pagina in range(1, numero_paginas + 1):\n",
    "    url = 'https://rickandmortyapi.com/api/episode?page={}'.format(pagina)\n",
    "    respuesta = requests.get(url)\n",
    "    diccionario = respuesta.json()\n",
    "    resultados = diccionario['results']\n",
    "    for episodio in resultados:\n",
    "        datos.append({\n",
    "            'Nombre': episodio['name'],\n",
    "            'Episodio': episodio['episode'],\n",
    "            'Fecha de emision': episodio['air_date']\n",
    "        })\n",
    "\n",
    "df = pd.DataFrame(datos)\n",
    "\n",
    "df.drop(columns=['created'], inplace=True)\n",
    "\n",
    "print(df)"
   ]
  },
  {
   "cell_type": "code",
   "execution_count": null,
   "metadata": {},
   "outputs": [],
   "source": [
    "# 8. Cantas personaxes aparecen na serie?"
   ]
  },
  {
   "cell_type": "code",
   "execution_count": 43,
   "metadata": {},
   "outputs": [
    {
     "name": "stdout",
     "output_type": "stream",
     "text": [
      "La serie tiene 826 personajes.\n"
     ]
    }
   ],
   "source": [
    "url = 'https://rickandmortyapi.com/api/character'\n",
    "\n",
    "respuesta = requests.get(url)\n",
    "diccionario = respuesta.json()\n",
    "\n",
    "print('La serie tiene', diccionario['info']['count'], 'personajes.')"
   ]
  },
  {
   "cell_type": "markdown",
   "source": [],
   "metadata": {
    "collapsed": false
   }
  },
  {
   "cell_type": "code",
   "execution_count": null,
   "metadata": {},
   "outputs": [],
   "source": [
    "# 9. Crea un dataframe con todas as personaxes da serie cos seguintes datos: nome, especie e xénero"
   ]
  },
  {
   "cell_type": "code",
   "execution_count": 45,
   "outputs": [
    {
     "data": {
      "text/plain": "           Nombre Especie      Genero\n0    Rick Sanchez   Human        Male\n1     Morty Smith   Human        Male\n2    Summer Smith   Human      Female\n3      Beth Smith   Human      Female\n4     Jerry Smith   Human        Male\n..            ...     ...         ...\n821   Young Jerry   Human        Male\n822    Young Beth   Human      Female\n823    Young Beth   Human      Female\n824   Young Jerry   Human        Male\n825  Butter Robot   Robot  Genderless\n\n[826 rows x 3 columns]",
      "text/html": "<div>\n<style scoped>\n    .dataframe tbody tr th:only-of-type {\n        vertical-align: middle;\n    }\n\n    .dataframe tbody tr th {\n        vertical-align: top;\n    }\n\n    .dataframe thead th {\n        text-align: right;\n    }\n</style>\n<table border=\"1\" class=\"dataframe\">\n  <thead>\n    <tr style=\"text-align: right;\">\n      <th></th>\n      <th>Nombre</th>\n      <th>Especie</th>\n      <th>Genero</th>\n    </tr>\n  </thead>\n  <tbody>\n    <tr>\n      <th>0</th>\n      <td>Rick Sanchez</td>\n      <td>Human</td>\n      <td>Male</td>\n    </tr>\n    <tr>\n      <th>1</th>\n      <td>Morty Smith</td>\n      <td>Human</td>\n      <td>Male</td>\n    </tr>\n    <tr>\n      <th>2</th>\n      <td>Summer Smith</td>\n      <td>Human</td>\n      <td>Female</td>\n    </tr>\n    <tr>\n      <th>3</th>\n      <td>Beth Smith</td>\n      <td>Human</td>\n      <td>Female</td>\n    </tr>\n    <tr>\n      <th>4</th>\n      <td>Jerry Smith</td>\n      <td>Human</td>\n      <td>Male</td>\n    </tr>\n    <tr>\n      <th>...</th>\n      <td>...</td>\n      <td>...</td>\n      <td>...</td>\n    </tr>\n    <tr>\n      <th>821</th>\n      <td>Young Jerry</td>\n      <td>Human</td>\n      <td>Male</td>\n    </tr>\n    <tr>\n      <th>822</th>\n      <td>Young Beth</td>\n      <td>Human</td>\n      <td>Female</td>\n    </tr>\n    <tr>\n      <th>823</th>\n      <td>Young Beth</td>\n      <td>Human</td>\n      <td>Female</td>\n    </tr>\n    <tr>\n      <th>824</th>\n      <td>Young Jerry</td>\n      <td>Human</td>\n      <td>Male</td>\n    </tr>\n    <tr>\n      <th>825</th>\n      <td>Butter Robot</td>\n      <td>Robot</td>\n      <td>Genderless</td>\n    </tr>\n  </tbody>\n</table>\n<p>826 rows × 3 columns</p>\n</div>"
     },
     "execution_count": 45,
     "metadata": {},
     "output_type": "execute_result"
    }
   ],
   "source": [
    "url = 'https://rickandmortyapi.com/api/character'\n",
    "\n",
    "respuesta = requests.get(url)\n",
    "diccionario = respuesta.json()\n",
    "\n",
    "numero_paginas = diccionario['info']['pages']\n",
    "\n",
    "datos = []\n",
    "for pagina in range(1, numero_paginas + 1):\n",
    "    url = 'https://rickandmortyapi.com/api/character?page={}'.format(pagina)\n",
    "    respuesta = requests.get(url)\n",
    "    diccionario = respuesta.json()\n",
    "    resultados = diccionario['results']\n",
    "    for personaje in resultados:\n",
    "        datos.append({\n",
    "            'Nombre': personaje['name'],\n",
    "            'Especie': personaje['species'],\n",
    "            'Genero': personaje['gender']\n",
    "        })\n",
    "\n",
    "df = pd.DataFrame(datos)\n",
    "\n",
    "df"
   ],
   "metadata": {
    "collapsed": false
   }
  },
  {
   "cell_type": "code",
   "execution_count": null,
   "metadata": {},
   "outputs": [],
   "source": [
    "# 10. Cantas especies están representadas na serie?"
   ]
  },
  {
   "cell_type": "code",
   "execution_count": null,
   "metadata": {},
   "outputs": [],
   "source": [
    "url = 'https://rickandmortyapi.com/api/character'\n",
    "response = requests.get(url)\n",
    "data = response.json()\n",
    "\n",
    "especies = set()\n",
    "for personaje in data['results']:\n",
    "    especies.add(personaje['species'])\n",
    "\n",
    "print('Hay', len(especies), 'especies representadas en la serie.')"
   ]
  },
  {
   "cell_type": "code",
   "execution_count": null,
   "metadata": {},
   "outputs": [],
   "source": [
    "# 11. Hai igualdade na representación de xéneros na serie?"
   ]
  },
  {
   "cell_type": "code",
   "execution_count": 53,
   "metadata": {},
   "outputs": [
    {
     "name": "stdout",
     "output_type": "stream",
     "text": [
      "Son un 78.95% hombres\n",
      "Son un 21.05% mujeres\n",
      "Por ello hay más hombres\n"
     ]
    }
   ],
   "source": [
    "url = 'https://rickandmortyapi.com/api/character'\n",
    "\n",
    "response = requests.get(url)\n",
    "data = response.json()\n",
    "\n",
    "numero_hombres = 0\n",
    "numero_mujeres = 0\n",
    "for personaje in data['results']:\n",
    "    if personaje['gender'] == 'Male':\n",
    "        numero_hombres += 1\n",
    "    elif personaje['gender'] == 'Female':\n",
    "        numero_mujeres += 1\n",
    "resultado = \"hay más hombres\" if numero_hombres>numero_mujeres else \"hay más mujeres\" if numero_mujeres>numero_hombres else \"hay igualdad!\"\n",
    "total = numero_hombres+numero_mujeres\n",
    "\n",
    "print(f\"Son un {(numero_hombres/total*100).__round__(2)}% hombres\\nSon un {(numero_mujeres/total*100).__round__(2)}% mujeres\")\n",
    "print(f\"Por ello {resultado}\")"
   ]
  }
 ],
 "metadata": {
  "kernelspec": {
   "display_name": "Python 3",
   "language": "python",
   "name": "python3"
  },
  "language_info": {
   "codemirror_mode": {
    "name": "ipython",
    "version": 3
   },
   "file_extension": ".py",
   "mimetype": "text/x-python",
   "name": "python",
   "nbconvert_exporter": "python",
   "pygments_lexer": "ipython3",
   "version": "3.8.10 (default, Nov 14 2022, 12:59:47) \n[GCC 9.4.0]"
  },
  "orig_nbformat": 4,
  "vscode": {
   "interpreter": {
    "hash": "916dbcbb3f70747c44a77c7bcd40155683ae19c65e1c03b4aa3499c5328201f1"
   }
  }
 },
 "nbformat": 4,
 "nbformat_minor": 2
}
